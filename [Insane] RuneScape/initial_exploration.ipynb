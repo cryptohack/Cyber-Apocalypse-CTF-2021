{
 "cells": [
  {
   "cell_type": "markdown",
   "metadata": {
    "collapsed": false
   },
   "source": [
    "$$\n",
    "\\newcommand{\\F}{\\mathbb{F}}\n",
    "\\newcommand{\\Fq}{\\F_q}\n",
    "\\newcommand{\\K}{\\mathbb{K}}\n",
    "\\newcommand{\\V}{\\mathbb{V}}\n",
    "$$"
   ]
  },
  {
   "cell_type": "markdown",
   "metadata": {
    "collapsed": false
   },
   "source": [
    "We're working with $\\Fq$ for $q$ a power of 2. $\\K$ is an extension of degree $n$, represented as polynomials from $\\Fq[X]/(P)$, where $P$ is an irreducible polynomial of degree $n$ over $\\Fq$.\n",
    "\n",
    "We introduce some sage weirdness so we can do symbolic calculations later on. More in particular, we introduce $n$ extra \"monomials\", such that they are actually properly reduced as well"
   ]
  },
  {
   "cell_type": "code",
   "execution_count": 1,
   "metadata": {
    "collapsed": false
   },
   "outputs": [
   ],
   "source": [
    "q = 2^2\n",
    "n = 3\n",
    "F = PolynomialRing(GF(q, name='ɑ'), ['X'] + [f'x{i}' for i in range(n)])\n",
    "X, *dummies = F.gens()\n",
    "alpha = F.base().gen()\n",
    "poly = F.base()['X'].irreducible_element(n)\n",
    "poly = F.base()['X'].gen()^3 + alpha\n",
    "assert poly.is_irreducible()\n",
    "K = F.quotient_ring([poly.subs({poly.variables()[0]: X})] + [d^q + d for d in dummies], names=[str(t) for t in ['X', *dummies]])\n",
    "X, *_ = K.gens()"
   ]
  },
  {
   "cell_type": "markdown",
   "metadata": {
    "collapsed": false
   },
   "source": [
    "To have a correspondence between the vector space $\\V = \\Fq^n$ and $\\K$, we define the basis $(\\beta_i = X^i)_{0 \\le i < n}$"
   ]
  },
  {
   "cell_type": "code",
   "execution_count": 2,
   "metadata": {
    "collapsed": false
   },
   "outputs": [
    {
     "data": {
      "text/plain": [
       "[1, X, X^2]"
      ]
     },
     "execution_count": 2,
     "metadata": {
     },
     "output_type": "execute_result"
    }
   ],
   "source": [
    "beta = [X^i for i in range(n)]\n",
    "beta"
   ]
  },
  {
   "cell_type": "markdown",
   "metadata": {
    "collapsed": false
   },
   "source": [
    "This, in turn also easily allows us to do the following map from vector-land to field-land in sage\n",
    "\n",
    "We write $$\\phi : \\K \\to \\V : a_0 + a_1X + a_2 X^2 + a_3 X^3 + a_4 X^4 \\mapsto (a_0, a_1, a_2, a_3, a_4)$$ and $$\\phi^{-1} : \\V \\to \\K : (a_i)_{0 \\le i < 5} \\mapsto \\sum_{i = 0}^4 a_i \\beta_i$$ \n",
    "Note that this definition for $\\phi$ works for this particular $\\beta$ but would not work in general, though the notation could remain the same for full generality"
   ]
  },
  {
   "cell_type": "code",
   "execution_count": 3,
   "metadata": {
    "collapsed": false
   },
   "outputs": [
    {
     "data": {
      "text/plain": [
       "((ɑ)*X^2 + (ɑ + 1), ((ɑ + 1), 0, (ɑ)))"
      ]
     },
     "execution_count": 3,
     "metadata": {
     },
     "output_type": "execute_result"
    }
   ],
   "source": [
    "def phi_inv(x):\n",
    "    return sum(b*y for b, y in zip(beta, x))\n",
    "\n",
    "def phi(x):\n",
    "    # https://ask.sagemath.org/question/52594/how-to-get-the-coefficient-of-a-multivariate-polynomial-with-respect-to-a-specific-variable-and-degree-in-a-quotient-ring/\n",
    "    xl = x.lift()\n",
    "    # Note, this *really* only works for this particular \\beta\n",
    "    return vector(F, [xl.coefficient({X: i}) for i in range(n)])\n",
    "\n",
    "K_el = phi_inv(vector(F, [alpha^2, 0, alpha]))\n",
    "V_el = phi(K_el)\n",
    "K_el, V_el"
   ]
  },
  {
   "cell_type": "markdown",
   "metadata": {
    "collapsed": false
   },
   "source": [
    "Then some further toy parameters:"
   ]
  },
  {
   "cell_type": "code",
   "execution_count": 4,
   "metadata": {
    "collapsed": false
   },
   "outputs": [
   ],
   "source": [
    "theta = 2\n",
    "h = q^theta + 1\n",
    "h_inv = inverse_mod(h, q^n - 1)"
   ]
  },
  {
   "cell_type": "markdown",
   "metadata": {
    "collapsed": false
   },
   "source": [
    "And the affine transformations"
   ]
  },
  {
   "cell_type": "code",
   "execution_count": 5,
   "metadata": {
    "collapsed": false
   },
   "outputs": [
   ],
   "source": [
    "A = Matrix(F, [1, 0, alpha, 0, 0, alpha + 1, alpha, alpha, alpha], nrows=n)\n",
    "c = vector(F, [1, alpha, 1])\n",
    "L1 = lambda x: vector(F, A*x + c)\n",
    "L1_inv = lambda x: vector(F, A^-1 * (x - c))\n",
    "\n",
    "B = Matrix(F, [1, alpha, alpha + 1, 0, 1, alpha + 1, alpha, alpha, alpha + 1 ], nrows=n)\n",
    "d = vector(F, [alpha + 1, 0, alpha + 1])\n",
    "L2 = lambda x: vector(F, B * x + d)\n",
    "L2_inv = lambda x: vector(F, B^-1 * (x - d))"
   ]
  },
  {
   "cell_type": "markdown",
   "metadata": {
    "collapsed": false
   },
   "source": [
    "To obtain the public relations $\\bar{x} \\to \\bar{y}$, we first calculate $\\bar{u}$ in terms of $\\bar{x}$, bring it over to $\\mathbf{u} \\in \\K$ through $\\phi^{-1}$, calculate $\\mathbf{v} = \\mathbf{u}^h$ and bring that back to $\\bar{v} = \\phi(\\mathbf{v})$"
   ]
  },
  {
   "cell_type": "code",
   "execution_count": 6,
   "metadata": {
    "collapsed": false
   },
   "outputs": [
    {
     "name": "stdout",
     "output_type": "stream",
     "text": [
      "x0^2 + (ɑ + 1)*x0*x1 + (ɑ + 1)*x1^2 + (ɑ)*x0*x2 + (ɑ + 1)*x1*x2 + (ɑ + 1)*x2^2 + x0 + (ɑ)*x1 + (ɑ)\n",
      "x0^2 + (ɑ + 1)*x0*x1 + (ɑ)*x1^2 + (ɑ + 1)*x0*x2 + x1*x2 + (ɑ)*x2^2 + (ɑ)*x0 + (ɑ + 1)*x1 + (ɑ + 1)\n",
      "(ɑ)*x0^2 + (ɑ + 1)*x0*x1 + (ɑ + 1)*x1^2 + (ɑ + 1)*x0*x2 + (ɑ)*x1*x2 + (ɑ)*x0 + x1 + (ɑ + 1)\n"
     ]
    }
   ],
   "source": [
    "x_bar = vector(F, dummies)\n",
    "psi = lambda x: x^h\n",
    "y_bar = L2(phi(psi(phi_inv(L1(x_bar)))))\n",
    "print(\"\\n\".join(map(str, L2(phi(psi(phi_inv(L1(x_bar))))))))"
   ]
  },
  {
   "cell_type": "markdown",
   "metadata": {
    "collapsed": false
   },
   "source": [
    "The public key then simply consists of these multivariate polynomial relations\n",
    "\n",
    "The private key consists of our random masks $L_1$ and $L_2$ (or their inverses, practically speaking), and the inverse mapping for the $h$th power, which is simply $h^{-1} \\pmod{q^n - 1}$"
   ]
  },
  {
   "cell_type": "code",
   "execution_count": 7,
   "metadata": {
    "collapsed": false
   },
   "outputs": [
   ],
   "source": [
    "pubkey = y_bar\n",
    "privkey = (L1_inv, L2_inv, h_inv)"
   ]
  },
  {
   "cell_type": "markdown",
   "metadata": {
    "collapsed": false
   },
   "source": [
    "To encrypt a message, we simply inject our plaintext into the public polynomials"
   ]
  },
  {
   "cell_type": "code",
   "execution_count": 8,
   "metadata": {
    "collapsed": false
   },
   "outputs": [
    {
     "data": {
      "text/plain": [
       "(1, 1, 0)"
      ]
     },
     "execution_count": 8,
     "metadata": {
     },
     "output_type": "execute_result"
    }
   ],
   "source": [
    "def encrypt(pubkey, message):\n",
    "    assert len(pubkey) == len(message)\n",
    "    d = {x: m for x, m in zip(dummies, message)}\n",
    "    return vector(F, [f.substitute(d) for f in pubkey])\n",
    "ciphertext = encrypt(pubkey, vector(F, [alpha, alpha, alpha]))\n",
    "ciphertext"
   ]
  },
  {
   "cell_type": "markdown",
   "metadata": {
    "collapsed": false
   },
   "source": [
    "To decrypt a plaintext again, we apply the individual inverse steps as part of the private key"
   ]
  },
  {
   "cell_type": "code",
   "execution_count": 9,
   "metadata": {
    "collapsed": false
   },
   "outputs": [
    {
     "data": {
      "text/plain": [
       "((ɑ), (ɑ), (ɑ))"
      ]
     },
     "execution_count": 9,
     "metadata": {
     },
     "output_type": "execute_result"
    }
   ],
   "source": [
    "def decrypt(privkey, ct):\n",
    "    L1_inv, L2_inv, h_inv = privkey\n",
    "    return L1_inv(phi(phi_inv(L2_inv(ct))^h_inv))\n",
    "decrypt(privkey, ciphertext)"
   ]
  },
  {
   "cell_type": "markdown",
   "metadata": {
    "collapsed": false
   },
   "source": [
    "-------------------------------\n",
    "Now, let's see if we can get the attack to work"
   ]
  }
 ],
 "metadata": {
  "kernelspec": {
   "display_name": "SageMath 9.2",
   "language": "sagemath",
   "metadata": {
    "cocalc": {
     "description": "Open-source mathematical software system",
     "priority": 10,
     "url": "https://www.sagemath.org/"
    }
   },
   "name": "sage-9.2",
   "resource_dir": "/ext/jupyter/kernels/sage-9.2"
  },
  "language_info": {
   "codemirror_mode": {
    "name": "ipython",
    "version": 3
   },
   "file_extension": ".py",
   "mimetype": "text/x-python",
   "name": "python",
   "nbconvert_exporter": "python",
   "pygments_lexer": "ipython3",
   "version": "3.8.5"
  }
 },
 "nbformat": 4,
 "nbformat_minor": 4
}